{
 "cells": [
  {
   "cell_type": "code",
   "execution_count": 171,
   "metadata": {},
   "outputs": [],
   "source": [
    "import numpy as np\n",
    "import random\n",
    "import scipy.stats as ss\n",
    "import matplotlib.pyplot as plt\n"
   ]
  },
  {
   "cell_type": "code",
   "execution_count": 172,
   "metadata": {},
   "outputs": [],
   "source": [
    "def distance(p1,p2):\n",
    "    return np.sqrt(np.sum(np.power(p2-p1,2)))\n",
    "\n",
    "def majority_votes(votes):\n",
    "    vote_counts={}\n",
    "    for vote in votes:\n",
    "        if vote in vote_counts:\n",
    "            vote_counts[vote]+=1\n",
    "        else:\n",
    "            vote_counts[vote]=1\n",
    "    winners=[]\n",
    "    max_counts=max(vote_counts.values())\n",
    "    for vote,count in vote_counts.items():\n",
    "        if count==max_counts:\n",
    "            winners.append(vote)\n",
    "            \n",
    "    return random.choice(winners) #to choose one winner in case of tie     \n",
    "    "
   ]
  },
  {
   "cell_type": "code",
   "execution_count": 173,
   "metadata": {},
   "outputs": [],
   "source": [
    "def find_nearest_neighbours(p,points,k):\n",
    "    distances=np.zeros(points.shape[0]) #same as no of rows in points\n",
    "    for i in range (len(distances)):\n",
    "        distances[i]=distance(p,points[i])\n",
    "    ind=np.argsort(distances)\n",
    "    return ind[:k] #returns the k nearest points from point 'p'.\n",
    "def knn_predict(p,points,outcomes,k=5):\n",
    "    ind=find_nearest_neighbours(p,points,k)\n",
    "    return majority_votes(outcomes[ind])\n",
    "#outcomes=np.array([0,0,0,0,1,1,1,1,1])    \n",
    "#knn_predict(np.array([1.0,2.7]),points,outcomes,k=2)\n"
   ]
  },
  {
   "cell_type": "code",
   "execution_count": 174,
   "metadata": {},
   "outputs": [],
   "source": [
    "def generate_synth_data(n=50):\n",
    "    \"\"\"Generating synthetic data\"\"\"\n",
    "    \n",
    "    points=np.concatenate((ss.norm(0,1).rvs((n,2)), ss.norm(1,1).rvs((n,2))), axis=0)\n",
    "    outcomes=np.concatenate((np.repeat(0,n),np.repeat(1,n)))\n",
    "    return (points,outcomes)\n"
   ]
  },
  {
   "cell_type": "code",
   "execution_count": 219,
   "metadata": {},
   "outputs": [
    {
     "data": {
      "image/png": "[encoded data removed]",
      "text/plain": [
       "<Figure size 432x288 with 1 Axes>"
      ]
     },
     "metadata": {
      "needs_background": "light"
     },
     "output_type": "display_data"
    }
   ],
   "source": [
    "def bivariatefig():\n",
    "    \"\"\"making a figure of Bivariate data\"\"\"\n",
    "    (points,outcomes)=generate_synth_data(n)\n",
    "    plt.figure()\n",
    "    plt.plot(points[:n,0],points[:n,1],\"ro\")\n",
    "    plt.plot(points[n:,0],points[n:,1],\"bo\")\n",
    "\n",
    "    plt.savefig(\"bivariate.pdf\")\n"
   ]
  },
  {
   "cell_type": "code",
   "execution_count": 176,
   "metadata": {},
   "outputs": [],
   "source": [
    "def make_prediction_grid(predictors,outcomes,limits,h,k): \n",
    "    \"\"\"this function will run through all of the points on our prediction grid \n",
    "       and will predict the class label corresponding to that point.\"\"\"\n",
    "    \n",
    "    (x_min,x_max,y_min,y_max)= limits\n",
    "    xs=np.arange(x_min,x_max)\n",
    "    ys=np.arange(y_min,y_max)\n",
    "    xx,yy= np.meshgrid(xs,ys)\n",
    "    prediction_grid=np.zeros(xx.shape, dtype=int)\n",
    "    for i,x in enumerate(xs):\n",
    "        for j,y in enumerate(ys):\n",
    "            p=np.array(x,y)\n",
    "            prediction_grid[j,i]=knn_predict(p,predictors,outcomes,k)# Y values on the Rows and X values on Coloumns\n",
    "    return (xx,yy,prediction_grid)        \n",
    "            \n",
    "    "
   ]
  },
  {
   "cell_type": "code",
   "execution_count": 177,
   "metadata": {},
   "outputs": [],
   "source": [
    "def plot_prediction_grid (xx, yy, prediction_grid, filename):\n",
    "    \"\"\" Plot KNN predictions for every point on the grid.\"\"\"\n",
    "    \n",
    "    from matplotlib.colors import ListedColormap\n",
    "    background_colormap = ListedColormap ([\"hotpink\",\"lightskyblue\", \"yellowgreen\"])\n",
    "    observation_colormap = ListedColormap ([\"red\",\"blue\",\"green\"])\n",
    "    plt.figure(figsize =(10,10))\n",
    "    plt.pcolormesh(xx, yy, prediction_grid, cmap = background_colormap, alpha = 0.5)\n",
    "    plt.scatter(predictors[:,0], predictors [:,1], c = outcomes, cmap = observation_colormap, s = 50)\n",
    "    plt.xlabel('Variable 1'); plt.ylabel('Variable 2')\n",
    "    plt.xticks(()); plt.yticks(())\n",
    "    plt.xlim (np.min(xx), np.max(xx))\n",
    "    plt.ylim (np.min(yy), np.max(yy))\n",
    "    plt.savefig(filename)"
   ]
  },
  {
   "cell_type": "code",
   "execution_count": 179,
   "metadata": {},
   "outputs": [],
   "source": [
    "def test_knn():\n",
    "    \"\"\" It seems that we might be able to find a value of k that maximizes\n",
    "        the accuracy of the predictions.\n",
    "        But that's somewhat short sighted.\n",
    "        This is because what we really care about is not\n",
    "        how well your method performs on the training data set,\n",
    "        the data set we've used so far.\n",
    "        But rather how well it performs on a future dataset you haven't yet seen.\n",
    "        It turns out that using a value for k that's too large or too small\n",
    "        is not optimal.\n",
    "        A phenomenon that is known as the bias-variance tradeoff.\n",
    "        This suggests that some intermediate values of k might be best.\"\"\"\n",
    "    limits=(-3,4,-3,4);k=50; h=0.1\n",
    "    filename=\"knn_synth_50.pdf\"\n",
    "    (predictors,outcomes)=generate_synth_data()\n",
    "    (xx,yy,prediction_grid) =make_prediction_grid(predictors,outcomes,limits,h,k)\n",
    "    plot_prediction_grid (xx, yy, prediction_grid, filename)\n",
    "    "
   ]
  },
  {
   "cell_type": "code",
   "execution_count": 189,
   "metadata": {},
   "outputs": [
    {
     "name": "stderr",
     "output_type": "stream",
     "text": [
      "<ipython-input-177-2eee30ffb4eb>:8: MatplotlibDeprecationWarning: shading='flat' when X and Y have the same dimensions as C is deprecated since 3.3.  Either specify the corners of the quadrilaterals with X and Y, or pass shading='auto', 'nearest' or 'gouraud', or set rcParams['pcolor.shading'].  This will become an error two minor releases later.\n",
      "  plt.pcolormesh(xx, yy, prediction_grid, cmap = background_colormap, alpha = 0.5)\n"
     ]
    },
    {
     "data": {
      "image/png": "[encoded data removed]",
      "text/plain": [
       "<Figure size 432x288 with 1 Axes>"
      ]
     },
     "metadata": {
      "needs_background": "light"
     },
     "output_type": "display_data"
    },
    {
     "data": {
      "image/png": "[encoded data removed]",
      "text/plain": [
       "<Figure size 720x720 with 1 Axes>"
      ]
     },
     "metadata": {},
     "output_type": "display_data"
    }
   ],
   "source": [
    "\"\"\"We'll be applying both the SciKitLearn and our homemade classifier\n",
    "to a classic data set created by Ron Fisher in 1933.\"\"\"\n",
    "from sklearn import datasets\n",
    "iris=datasets.load_iris()\n",
    "predictors=iris.data[:,0:2]\n",
    "outcomes=iris.target\n",
    "plt.plot(predictors[outcomes==0][:,0], predictors[outcomes==0][:,1],\"ro\")\n",
    "plt.plot(predictors[outcomes==1][:,0], predictors[outcomes==0][:,1],\"go\")\n",
    "plt.plot(predictors[outcomes==2][:,0], predictors[outcomes==0][:,1],\"bo\")\n",
    "plt.savefig(\"iris.pdf\")\n",
    "k=5;filename=\"iris_grid.pdf\";limits=(4,8,1.5,4.5); h=0.1\n",
    "(xx,yy,prediction_grid) =make_prediction_grid(predictors,outcomes,limits,h,k)\n",
    "plot_prediction_grid (xx, yy, prediction_grid, filename)\n",
    "\"\"\"And these are our iris prediction grid.\n",
    "In this case, we can see that the grid consists of three different colors\n",
    "because we have three different classes of observations.\n",
    "Looking at this grid, if we were to observe a new data point that\n",
    "sits somewhere in the upper left corner, this classifier\n",
    "would predict that observation to belong to the red class.\n",
    "Similarly, if we had a new observation that\n",
    "happened to sit in the lower left corner of the plot,\n",
    "that would be classified as a blue dot.\n",
    "Finally, if we had new observations for which the x-coordinate is\n",
    "very close to the right boundary of our region here,\n",
    "those points would be classified as belonging\n",
    "to the green category or class.\"\"\""
   ]
  },
  {
   "cell_type": "code",
   "execution_count": 221,
   "metadata": {},
   "outputs": [
    {
     "name": "stdout",
     "output_type": "stream",
     "text": [
      "How SciKit Prediction agree my predictions= 96.0\n",
      "How frequently do my Predictions agree with the actual observed outcomes= 83.33333333333334\n",
      "How frequently do SciKit Predictions agree with the actual observed outcomes= 84.66666666666667\n"
     ]
    }
   ],
   "source": [
    "\"\"\"Let's then fit the knn classifier using both the algorithm from SciKitLearn\n",
    "as well as our own homemade algorithm.\"\"\"\n",
    "\n",
    "from sklearn.neighbors import KNeighborsClassifier\n",
    "knn=KNeighborsClassifier(n_neighbors=5)\n",
    "knn.fit(predictors,outcomes)\n",
    "sk_predictions=knn.predict(predictors)\n",
    "#data points correspond to their predictions provided by the SciKitLearn algorithm using KNearestNeighbors.\n",
    "\n",
    "data_points=sk_predictions\n",
    "\n",
    "#Building array that consist of my predictions\n",
    "\n",
    "my_predictions=np.array([knn_predict(p,predictors,outcomes,5) for p in predictors])\n",
    "\n",
    "#Comparing how sk prediction agree my predictions\n",
    "\n",
    "print('How SciKit Prediction agree my predictions=',100*np.mean(sk_predictions==my_predictions))\n",
    "\n",
    "#How frequently do my predictions and SciKit predictions agree with the actual observed outcomes.\n",
    "\n",
    "print('How frequently do my Predictions agree with the actual observed outcomes=',100*np.mean(sk_predictions==outcomes))\n",
    "print('How frequently do SciKit Predictions agree with the actual observed outcomes=',100*np.mean(my_predictions==outcomes))\n"
   ]
  }
 ],
 "metadata": {
  "kernelspec": {
   "display_name": "Python 3",
   "language": "python",
   "name": "python3"
  },
  "language_info": {
   "codemirror_mode": {
    "name": "ipython",
    "version": 3
   },
   "file_extension": ".py",
   "mimetype": "text/x-python",
   "name": "python",
   "nbconvert_exporter": "python",
   "pygments_lexer": "ipython3",
   "version": "3.8.5"
  }
 },
 "nbformat": 4,
 "nbformat_minor": 4
}
